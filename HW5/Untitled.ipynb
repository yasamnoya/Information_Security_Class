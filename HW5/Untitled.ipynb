{
 "cells": [
  {
   "cell_type": "code",
   "execution_count": 2,
   "metadata": {},
   "outputs": [],
   "source": [
    "import numpy as np\n",
    "import sys\n",
    "import random as rd\n",
    "from hashlib import sha1\n",
    "\n",
    "def create_length(lengthp,lengthq):\n",
    "    q = rd.getrandbits(lengthq)\n",
    "    while(miller_rabin(q)==0):\n",
    "        q = rd.getrandbits(lengthq)\n",
    "    temp = rd.getrandbits(lengthp-lengthq)\n",
    "    p = temp*q+1\n",
    "    while((miller_rabin(p)==0) or (p.bit_length()!=lengthp)):\n",
    "        temp = rd.getrandbits(lengthp-lengthq)\n",
    "        p = temp*q+1\n",
    "#     if(p.bit_length()==lengthp):\n",
    "    return(p,q,temp)\n"
   ]
  },
  {
   "cell_type": "code",
   "execution_count": 34,
   "metadata": {},
   "outputs": [],
   "source": [
    "def square_and_multiply(base, exponent, n):\n",
    "    exponent_bin = bin(exponent)[2:]\n",
    "    exponent_len = len(exponent_bin)\n",
    "    ans = 1\n",
    "    for ii in range(exponent_len):\n",
    "        ans *= ans\n",
    "        ans = ans % n\n",
    "        if(exponent_bin[ii]=='1'):\n",
    "            ans *= base\n",
    "            ans = ans % n\n",
    "#     return pow(base,exponent,n)\n",
    "    return ans\n",
    "def miller_rabin(n):\n",
    "    if (n < 2):\n",
    "        return False\n",
    "    a = [2,3,5,7,11,13,17,19]\n",
    "    for a2 in a:\n",
    "        u = n-1\n",
    "        t = 0\n",
    "        while (u % 2 == 0):\n",
    "            u >>= 1\n",
    "            t += 1\n",
    "        if(t == 0):\n",
    "            return False\n",
    "        x = square_and_multiply(a2, n - 1, n)\n",
    "        if (x == 1 or x ==n-1):\n",
    "            continue\n",
    "        x = square_and_multiply(a2, u, n)\n",
    "        if (x == 1 or x == n-1):\n",
    "            continue\n",
    "        for i in range (t-1):\n",
    "            x = x * x % n\n",
    "            if (x == 1):\n",
    "                return False\n",
    "            if (x == n-1):\n",
    "                continue\n",
    "        return False\n",
    "    return True"
   ]
  },
  {
   "cell_type": "code",
   "execution_count": 35,
   "metadata": {},
   "outputs": [],
   "source": [
    "def find_nums(p, q, times):\n",
    "    h = rd.randint(1, p)\n",
    "    d = rd.randint(1, q)\n",
    "    alpha = square_and_multiply(h, times, p)\n",
    "    beta = square_and_multiply(alpha, d, p)\n",
    "    return(h, d, alpha, beta)"
   ]
  },
  {
   "cell_type": "code",
   "execution_count": 36,
   "metadata": {},
   "outputs": [],
   "source": [
    "def ext_gcd(a, b):\n",
    "    if b == 0:\n",
    "        x1 = 1 \n",
    "        y1 = 0 \n",
    "        x = x1 \n",
    "        y = y1 \n",
    "        r = a \n",
    "        return r, x, y \n",
    "    else: \n",
    "        r, x1, y1 = ext_gcd(b, a % b)\n",
    "        x = y1 \n",
    "        y = x1 - a // b * y1 \n",
    "        return r, x, y"
   ]
  },
  {
   "cell_type": "code",
   "execution_count": 5,
   "metadata": {},
   "outputs": [],
   "source": [
    "if __name__ == '__main__':\n",
    "    \n",
    "    \n",
    "    "
   ]
  },
  {
   "cell_type": "code",
   "execution_count": null,
   "metadata": {},
   "outputs": [],
   "source": [
    "messagex = \"suckmydick\"\n",
    "(p, q, times)= create_length(1024, 160)\n",
    "(h, d, alpha, beta) = find_nums(p, q, times)\n",
    "kE = rd.randint(1, q)\n",
    "r = square_and_multiply(alpha, kE, p)\n",
    "r = r % q\n",
    "tempr, tempx, tempy = ext_gcd(kE, q)\n",
    "kEinverse = tempx"
   ]
  },
  {
   "cell_type": "code",
   "execution_count": 24,
   "metadata": {},
   "outputs": [
    {
     "name": "stdout",
     "output_type": "stream",
     "text": [
      "SHA1: ef8ae7a82c7a0bafd81123f418f10b9b0c737bca\n"
     ]
    }
   ],
   "source": [
    "SHA = sha1(messagex.encode('utf-8')).hexdigest()\n",
    "print('SHA1:',SHA)"
   ]
  },
  {
   "cell_type": "code",
   "execution_count": 25,
   "metadata": {},
   "outputs": [],
   "source": [
    "SHA_int = int(SHA, 16)"
   ]
  },
  {
   "cell_type": "code",
   "execution_count": 26,
   "metadata": {},
   "outputs": [
    {
     "data": {
      "text/plain": [
       "1367546477228902480689471659072117599796288781258"
      ]
     },
     "execution_count": 26,
     "metadata": {},
     "output_type": "execute_result"
    }
   ],
   "source": [
    "SHA_int"
   ]
  },
  {
   "cell_type": "code",
   "execution_count": 27,
   "metadata": {},
   "outputs": [],
   "source": [
    "s = SHA_int + d * r"
   ]
  },
  {
   "cell_type": "code",
   "execution_count": 28,
   "metadata": {},
   "outputs": [],
   "source": [
    "s = s * kEinverse"
   ]
  },
  {
   "cell_type": "code",
   "execution_count": 29,
   "metadata": {},
   "outputs": [],
   "source": [
    "s = s % q"
   ]
  },
  {
   "cell_type": "code",
   "execution_count": 30,
   "metadata": {},
   "outputs": [
    {
     "name": "stdout",
     "output_type": "stream",
     "text": [
      "r= 84699283276021820864030129573456897929356718779 s= 87555630429073157038535847556915604738829621237\n"
     ]
    }
   ],
   "source": [
    "print(\"r=\",r, \"s=\",s)"
   ]
  },
  {
   "cell_type": "code",
   "execution_count": 31,
   "metadata": {},
   "outputs": [],
   "source": [
    "# verify\n",
    "tempr, tempx, tempy = ext_gcd(s, q)\n",
    "w = tempx\n",
    "u1 = w * SHA_int % q\n",
    "u2 = w * r % q\n",
    "\n"
   ]
  },
  {
   "cell_type": "code",
   "execution_count": 32,
   "metadata": {},
   "outputs": [
    {
     "name": "stdout",
     "output_type": "stream",
     "text": [
      "v= 84699283276021820864030129573456897929356718779\n"
     ]
    }
   ],
   "source": [
    "v = square_and_multiply(alpha, u1, p) * square_and_multiply(beta, u2, p) % p % q\n",
    "print(\"v=\",v)"
   ]
  },
  {
   "cell_type": "code",
   "execution_count": 22,
   "metadata": {},
   "outputs": [
    {
     "data": {
      "text/plain": [
       "2555009134109229272019824502652183642384686009304665290712999788785191369521336054702364198892072359147853488395443450422079334765018928441092368795484625909410191808626970754806412429780171722290321570470119185183263955680745434841033725499521942733090083351141956828894840313606068173852246761450871276862"
      ]
     },
     "execution_count": 22,
     "metadata": {},
     "output_type": "execute_result"
    }
   ],
   "source": [
    "temp = rd.getrandbits(1024)\n",
    "temp"
   ]
  },
  {
   "cell_type": "code",
   "execution_count": 23,
   "metadata": {},
   "outputs": [
    {
     "data": {
      "text/plain": [
       "1018"
      ]
     },
     "execution_count": 23,
     "metadata": {},
     "output_type": "execute_result"
    }
   ],
   "source": [
    "temp.bit_length()\n"
   ]
  },
  {
   "cell_type": "code",
   "execution_count": 24,
   "metadata": {},
   "outputs": [
    {
     "data": {
      "text/plain": [
       "1018"
      ]
     },
     "execution_count": 24,
     "metadata": {},
     "output_type": "execute_result"
    }
   ],
   "source": [
    "temp.bit_length()"
   ]
  },
  {
   "cell_type": "code",
   "execution_count": null,
   "metadata": {},
   "outputs": [],
   "source": []
  }
 ],
 "metadata": {
  "kernelspec": {
   "display_name": "Python 3",
   "language": "python",
   "name": "python3"
  }
 },
 "nbformat": 4,
 "nbformat_minor": 2
}
